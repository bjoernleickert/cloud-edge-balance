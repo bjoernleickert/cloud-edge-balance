{
 "cells": [
  {
   "attachments": {},
   "cell_type": "markdown",
   "metadata": {},
   "source": [
    "\n",
    "# This project aims to find a balance between edge and cloud nodes"
   ]
  },
  {
   "attachments": {},
   "cell_type": "markdown",
   "metadata": {},
   "source": [
    "\n",
    "\n",
    "\n",
    "Here are all the necessary libraries imported. "
   ]
  },
  {
   "cell_type": "code",
   "execution_count": null,
   "metadata": {},
   "outputs": [],
   "source": [
    "import pandas as pd\n",
    "import numpy as np\n",
    "import matplotlib.pyplot as plt\n",
    "import json\n",
    "from joblib import Parallel, delayed"
   ]
  },
  {
   "attachments": {},
   "cell_type": "markdown",
   "metadata": {},
   "source": [
    "The Inverse Reinforcement Learning search algorithm gives insights into the weights' distribution and the number of nodes it converges. In the initial example \"./300_scores_benchmark.json\" including data from 300 machines and six model types, the maximum possible convergence for edge nodes is 300, which means 0 cloud nodes and the minimum convergence of edge nodes is 0, which means 300 cloud nodes.\n",
    "\n",
    "The method parallel_random_init() starts the search with random values in parallel and is used to find a set of balanced weights. The reward_function() returns the converged environment (as the number of edge nodes) and the received reward."
   ]
  },
  {
   "cell_type": "code",
   "execution_count": null,
   "metadata": {},
   "outputs": [],
   "source": [
    "class IRL_Search:\n",
    "    def __init__(self, data):\n",
    "        self.data = data.copy()\n",
    "        self.results = None\n",
    "        self.num_models = np.count_nonzero(self.data[\"model\"].unique())\n",
    "\n",
    "    def reward_function(self, weights):\n",
    "        df_data = self.data.copy()  \n",
    "        df_result = pd.DataFrame()     \n",
    "        df_data[\"reward\"] = (1 - df_data[\"cpu_cost_normalized\"]) * weights[0]  + (1 - df_data[\"mse_normalized\"]) * 0.5 * weights[1] + (1 - df_data[\"mae_normalized\"]) * 0.5 * weights[1] + (1 - (df_data[\"latency_normalized\"])) * weights[2]\n",
    "        df_result[\"machine\"] = df_data.groupby(\"machine\").apply(lambda x: x[\"machine\"].iloc[0])\n",
    "        df_result[\"instance\"] = df_data.groupby(\"machine\").apply(lambda x: np.argmax(x[\"reward\"], axis=0))\n",
    "        return np.count_nonzero((df_result[\"instance\"].to_numpy() + 1) > self.num_models), df_data.groupby(\"machine\").apply(lambda x: np.max(x[\"reward\"], axis=0)).sum()\n",
    "\n",
    "    def parallel_random_init(self, n_iterations, n_jobs=-1):\n",
    "        samples = [self.generate_random_sample() for _ in range(n_iterations)]\n",
    "        results = Parallel(n_jobs=n_jobs)(delayed(self.evaluate_sample)(s) for s in samples)\n",
    "        self.results = results\n",
    "\n",
    "    def get_results(self):\n",
    "        list = []\n",
    "        for edge_count, reward, solution in self.results:\n",
    "             list.append([edge_count, reward, solution])\n",
    "        return pd.DataFrame(list)\n",
    "    \n",
    "    def evaluate_sample(self, weights):\n",
    "        edge_count, reward = self.reward_function(weights)\n",
    "        return edge_count, reward, weights\n",
    "\n",
    "    def generate_random_sample(self):\n",
    "        x1, x2, x3 = np.random.dirichlet(np.ones(3), size=1)[0]\n",
    "        return [x1, x2, x3]\n",
    "\n"
   ]
  },
  {
   "attachments": {},
   "cell_type": "markdown",
   "metadata": {},
   "source": [
    "Here is the data loaded."
   ]
  },
  {
   "cell_type": "code",
   "execution_count": null,
   "metadata": {},
   "outputs": [],
   "source": [
    "irl_search300 = IRL_Search(pd.DataFrame.from_dict(json.load(open(\"./300_scores_benchmark.json\"))))\n",
    "irl_searchoversample = IRL_Search(pd.DataFrame.from_dict(json.load(open(\"./2700_oversample_scores_benchmark.json\"))))"
   ]
  },
  {
   "attachments": {},
   "cell_type": "markdown",
   "metadata": {},
   "source": [
    "The search is in this part initialized and the rewards are minimized and maximized."
   ]
  },
  {
   "cell_type": "code",
   "execution_count": null,
   "metadata": {},
   "outputs": [],
   "source": [
    "irl_search300.parallel_random_init(500)\n",
    "irl_result300 = irl_search300.get_results()\n",
    "\n",
    "reward_maximized = irl_result300.loc[irl_result300.groupby(0)[1].idxmax()].reset_index().to_numpy()\n",
    "reward_minimized = irl_result300.loc[irl_result300.groupby(0)[1].idxmin()].reset_index().to_numpy()\n"
   ]
  },
  {
   "attachments": {},
   "cell_type": "markdown",
   "metadata": {},
   "source": [
    "Visualization of maximum reward."
   ]
  },
  {
   "cell_type": "code",
   "execution_count": null,
   "metadata": {},
   "outputs": [],
   "source": [
    "x = []\n",
    "y1 = []\n",
    "y2 = []\n",
    "y3 = []\n",
    "\n",
    "for r in reward_maximized:\n",
    "    x.append(r[1])\n",
    "    y1.append(r[3][0])\n",
    "    y2.append(r[3][1])\n",
    "    y3.append(r[3][2])\n",
    "\n",
    "y_stacked = np.vstack((y1, y2, y3))\n",
    "\n",
    "fig, ax = plt.subplots(figsize=(15, 6),  dpi=300)\n",
    "ax.bar(x, y_stacked[0], label='cpu (w1)', color=\"#546671\")\n",
    "ax.bar(x, y_stacked[1], bottom=y_stacked[0], label='mae_mse (w2)', color=\"#acb8bb\")\n",
    "ax.bar(x, y_stacked[2], bottom=y_stacked[0] + y_stacked[1], label='latency (w3)', color=\"#d5d2cc\")\n",
    "ax.set_xlabel(\"number of edge nodes: cloud ←→ edge\")\n",
    "ax.set_ylabel('weights')\n",
    "ax.set_title('Maximum Reward')\n",
    "fig.legend(loc=\"upper center\", bbox_to_anchor=(0.5, -0.001), ncol=len(y_stacked))"
   ]
  },
  {
   "attachments": {},
   "cell_type": "markdown",
   "metadata": {},
   "source": [
    "Visualization of minimum reward."
   ]
  },
  {
   "cell_type": "code",
   "execution_count": null,
   "metadata": {},
   "outputs": [],
   "source": [
    "x = []\n",
    "y1 = []\n",
    "y2 = []\n",
    "y3 = []\n",
    "\n",
    "for r in reward_minimized:\n",
    "    x.append(r[1])\n",
    "    y1.append(r[3][0])\n",
    "    y2.append(r[3][1])\n",
    "    y3.append(r[3][2])\n",
    "\n",
    "y_stacked = np.vstack((y1, y2, y3))\n",
    "\n",
    "fig, ax = plt.subplots(figsize=(15, 6),  dpi=300)\n",
    "ax.bar(x, y_stacked[0], label='cpu (w1)', color=\"#546671\")\n",
    "ax.bar(x, y_stacked[1], bottom=y_stacked[0], label='mae_mse (w2)', color=\"#acb8bb\")\n",
    "ax.bar(x, y_stacked[2], bottom=y_stacked[0] + y_stacked[1], label='latency (w3)', color=\"#d5d2cc\")\n",
    "ax.set_xlabel(\"number of edge nodes: cloud ←→ edge\")\n",
    "ax.set_ylabel('weights')\n",
    "ax.set_title('Minimum Reward')\n",
    "fig.legend(loc=\"upper center\", bbox_to_anchor=(0.5, -0.001), ncol=len(y_stacked))"
   ]
  },
  {
   "cell_type": "code",
   "execution_count": null,
   "metadata": {},
   "outputs": [],
   "source": [
    "x = []\n",
    "y1 = []\n",
    "y2 = []\n",
    "x_latency = []\n",
    "y1_latency = []\n",
    "y2_latency = []\n",
    "for i in np.concatenate([np.arange(0.0, 0.01, 0.001), np.arange(0.01, 1.01, 0.01)]):\n",
    "    weights = [np.round(i, 3), np.round(1.0 - i, 3), 0.0]\n",
    "    result = irl_search300.reward_function(weights)\n",
    "    x.append(weights[0])\n",
    "    y1.append(result[0])\n",
    "    y2.append(result[1])\n",
    "\n",
    "    weights = [np.round(i, 3), np.round(1.0 - i, 3), 0.2]\n",
    "    result = irl_search300.reward_function(weights)\n",
    "    x_latency.append(weights[0])\n",
    "    y1_latency.append(result[0])\n",
    "    y2_latency.append(result[1])\n"
   ]
  },
  {
   "attachments": {},
   "cell_type": "markdown",
   "metadata": {},
   "source": [
    "Visualization of latency weight 0.0 and 0.2 for 300 nodes"
   ]
  },
  {
   "cell_type": "code",
   "execution_count": null,
   "metadata": {},
   "outputs": [],
   "source": [
    "fig, ax = plt.subplots(1, 2, figsize=(13, 3.7),  dpi=300)\n",
    "ax[0].set_title('Edge nodes involving latency weight: Comparison')\n",
    "ax[0].plot(x_latency, y1_latency, label='latency weight (w3): 0.20', color=\"#546671\")\n",
    "ax[0].set_ylim([0,380])\n",
    "ax[0].plot(x, y1, label='latency weight (w3): 0.00', color=\"#acb8bb\")\n",
    "\n",
    "ax[0].set_xlabel(\"weights: cpu (w1) and dependent mae_mse (w2), w2 = (1 - w1)\")\n",
    "ax[0].set_ylabel('number of edge nodes')\n",
    "ax[0].axvline(x = 0.04, color = 'black', linestyle = ':', label = \"0.04\")\n",
    "ax[0].legend(loc='lower right')\n",
    "\n",
    "ax[1].set_title('Reward involving latency weight: Comparison')\n",
    "ax[1].set_ylim([0,380])\n",
    "ax[1].plot(x_latency, y2_latency, label='latency weight (w3): 0.20', color=\"#546671\")\n",
    "ax[1].plot(x, y2, label='latency weight (w3): 0.00', color=\"#acb8bb\")\n",
    "\n",
    "ax[1].set_xlabel(\"weights: cpu (w1) and dependent mae_mse (w2), w2 = (1 - w1)\")\n",
    "ax[1].set_ylabel('reward')\n",
    "ax[1].legend(loc='lower right')"
   ]
  },
  {
   "cell_type": "code",
   "execution_count": null,
   "metadata": {},
   "outputs": [],
   "source": [
    "x = []\n",
    "y1 = []\n",
    "y2 = []\n",
    "x_latency = []\n",
    "y1_latency = []\n",
    "y2_latency = []\n",
    "for i in np.concatenate([np.arange(0.0, 0.01, 0.001), np.arange(0.01, 1.01, 0.01)]):\n",
    "    weights = [np.round(i, 3), np.round(1.0 - i, 3), 0.0]\n",
    "    result = irl_searchoversample.reward_function(weights)\n",
    "    x.append(weights[0])\n",
    "    y1.append(result[0])\n",
    "    y2.append(result[1])\n",
    "\n",
    "    weights = [np.round(i, 3), np.round(1.0 - i, 3), 0.2]\n",
    "    example = irl_searchoversample.reward_function(weights)\n",
    "    x_latency.append(weights[0])\n",
    "    y1_latency.append(result[0])\n",
    "    y2_latency.append(result[1])\n"
   ]
  },
  {
   "attachments": {},
   "cell_type": "markdown",
   "metadata": {},
   "source": [
    "Visualization of latency weight 0.0 and 0.2 for oversampled nodes."
   ]
  },
  {
   "cell_type": "code",
   "execution_count": null,
   "metadata": {},
   "outputs": [],
   "source": [
    "fig, ax = plt.subplots(1, 2, figsize=(13, 3.7),  dpi=300)\n",
    "ax[0].set_title('Edge nodes involving latency weight: Comparison')\n",
    "ax[0].plot(x_latency, y1_latency, label='latency weight (w3): 0.20', color=\"#546671\")\n",
    "ax[0].set_ylim([0,3800])\n",
    "ax[0].plot(x, y1, label='latency weight (w3): 0.00', color=\"#acb8bb\")\n",
    "\n",
    "ax[0].set_xlabel(\"weights: cpu (w1) and dependent mae_mse (w2), w2 = (1 - w1)\")\n",
    "ax[0].set_ylabel('number of edge nodes')\n",
    "ax[0].axvline(x = 0.48, color = 'black', linestyle = ':', label = \"0.48\")\n",
    "ax[0].legend(loc='lower right')\n",
    "\n",
    "ax[1].set_title('Reward involving latency weight: Comparison')\n",
    "ax[1].set_ylim([0,3800])\n",
    "ax[1].plot(x_latency, y2_latency, label='latency weight (w3): 0.20', color=\"#546671\")\n",
    "ax[1].plot(x, y2, label='latency weight (w3): 0.00', color=\"#acb8bb\")\n",
    "\n",
    "ax[1].set_xlabel(\"weights: cpu (w1) and dependent mae_mse (w2), w2 = (1 - w1)\")\n",
    "ax[1].set_ylabel('reward')\n",
    "ax[1].legend(loc='lower right')"
   ]
  },
  {
   "attachments": {},
   "cell_type": "markdown",
   "metadata": {},
   "source": [
    "MIT License\n",
    "\n",
    "Copyright (c) 2023 Björn Leickert\n",
    "\n",
    "Permission is hereby granted, free of charge, to any person obtaining a copy\n",
    "of this software and associated documentation files (the \"Software\"), to deal\n",
    "in the Software without restriction, including without limitation the rights\n",
    "to use, copy, modify, merge, publish, distribute, sublicense, and/or sell\n",
    "copies of the Software, and to permit persons to whom the Software is\n",
    "furnished to do so, subject to the following conditions:\n",
    "\n",
    "The above copyright notice and this permission notice shall be included in all\n",
    "copies or substantial portions of the Software.\n",
    "\n",
    "THE SOFTWARE IS PROVIDED \"AS IS\", WITHOUT WARRANTY OF ANY KIND, EXPRESS OR\n",
    "IMPLIED, INCLUDING BUT NOT LIMITED TO THE WARRANTIES OF MERCHANTABILITY,\n",
    "FITNESS FOR A PARTICULAR PURPOSE AND NONINFRINGEMENT. IN NO EVENT SHALL THE\n",
    "AUTHORS OR COPYRIGHT HOLDERS BE LIABLE FOR ANY CLAIM, DAMAGES OR OTHER\n",
    "LIABILITY, WHETHER IN AN ACTION OF CONTRACT, TORT OR OTHERWISE, ARISING FROM,\n",
    "OUT OF OR IN CONNECTION WITH THE SOFTWARE OR THE USE OR OTHER DEALINGS IN THE\n",
    "SOFTWARE."
   ]
  }
 ],
 "metadata": {
  "kernelspec": {
   "display_name": "base",
   "language": "python",
   "name": "python3"
  },
  "language_info": {
   "codemirror_mode": {
    "name": "ipython",
    "version": 3
   },
   "file_extension": ".py",
   "mimetype": "text/x-python",
   "name": "python",
   "nbconvert_exporter": "python",
   "pygments_lexer": "ipython3",
   "version": "3.10.6"
  },
  "orig_nbformat": 4
 },
 "nbformat": 4,
 "nbformat_minor": 2
}
